{
  "cells": [
    {
      "cell_type": "code",
      "source": [
        "# For Google Colaboratory\n",
        "import sys, os\n",
        "if 'google.colab' in sys.modules:\n",
        "    # mount google drive\n",
        "    from google.colab import drive\n",
        "    drive.mount('/content/gdrive')\n",
        "    # find automatically the path of the folder containing \"file_name\" :\n",
        "    file_name = 'ATLSTM-MA.ipynb'\n",
        "    import subprocess\n",
        "    path_to_file = subprocess.check_output('find . -type f -name ' + str(file_name), shell=True).decode(\"utf-8\")\n",
        "    path_to_file = path_to_file.replace(file_name,\"\").replace('\\n',\"\")\n",
        "    # if previous search failed or too long, comment the previous line and simply write down manually the path below :\n",
        "    #path_to_file = '/content/gdrive/My Drive/CS5242_2021_codes/codes/labs_lecture10/lab02_lstm'\n",
        "    print(path_to_file)\n",
        "    # change current path to the folder containing \"file_name\"\n",
        "    os.chdir(path_to_file)\n",
        "    !pwd"
      ],
      "metadata": {
        "id": "bLEZSAGh5niA",
        "colab": {
          "base_uri": "https://localhost:8080/"
        },
        "outputId": "94c697ac-9c6d-4dd2-bc46-e77f8837de0c"
      },
      "execution_count": 40,
      "outputs": [
        {
          "output_type": "stream",
          "name": "stdout",
          "text": [
            "Drive already mounted at /content/gdrive; to attempt to forcibly remount, call drive.mount(\"/content/gdrive\", force_remount=True).\n",
            "./\n",
            "/content/gdrive/My Drive/CS4248-Project\n"
          ]
        }
      ]
    },
    {
      "cell_type": "code",
      "source": [
        "import nltk\n",
        "nltk.download('punkt')"
      ],
      "metadata": {
        "id": "AMBei2Wr-a1Y",
        "colab": {
          "base_uri": "https://localhost:8080/"
        },
        "outputId": "e7d26689-2d58-479a-8733-c32fca0192c5"
      },
      "execution_count": 41,
      "outputs": [
        {
          "output_type": "stream",
          "name": "stdout",
          "text": [
            "[nltk_data] Downloading package punkt to /root/nltk_data...\n",
            "[nltk_data]   Package punkt is already up-to-date!\n"
          ]
        },
        {
          "output_type": "execute_result",
          "data": {
            "text/plain": [
              "True"
            ]
          },
          "metadata": {},
          "execution_count": 41
        }
      ]
    },
    {
      "cell_type": "code",
      "execution_count": 42,
      "metadata": {
        "id": "38BiyzPYLzFN"
      },
      "outputs": [],
      "source": [
        "# import packages\n",
        "import torch\n",
        "import torch.nn as nn \n",
        "import torch.nn.functional as F \n",
        "import pandas as pd \n",
        "from tqdm import tqdm\n",
        "from torchtext.legacy import data\n",
        "from torchtext.vocab import Vectors\n",
        "from torchtext.vocab import GloVe\n",
        "import time\n",
        "import math"
      ]
    },
    {
      "cell_type": "code",
      "execution_count": 43,
      "metadata": {
        "id": "VWH5JiOxLzFR"
      },
      "outputs": [],
      "source": [
        "# preprocessing\n",
        "\n",
        "from nltk import word_tokenize\n",
        "\n",
        "text = data.Field(sequential = True, lower = True, tokenize = word_tokenize)\n",
        "term = data.Field(sequential = False, lower = True)\n",
        "polarity = data.Field(sequential = False)"
      ]
    },
    {
      "cell_type": "code",
      "execution_count": 44,
      "metadata": {
        "id": "BPpQ85SuLzFR"
      },
      "outputs": [],
      "source": [
        "train, val = data.TabularDataset.splits(path=r'data/',\n",
        "                                        skip_header=True,\n",
        "                                        train='rest_train.csv',\n",
        "                                        validation='rest_test.csv',\n",
        "                                        format='csv',\n",
        "                                        fields=[('text', text),\n",
        "                                                ('term', term),\n",
        "                                                ('polarity', polarity)])"
      ]
    },
    {
      "cell_type": "code",
      "source": [
        "left = 0\n",
        "while(left + 1 < len(train)):\n",
        "  right = left\n",
        "  while(right + 1 < len(train) and train[right].text == train[right + 1].text):\n",
        "    right = right + 1\n",
        "  if right != left:\n",
        "    terms = []\n",
        "    for idx in range(left, right + 1):\n",
        "      terms.append(train[idx].term)\n",
        "    for idx in range(left, right + 1):\n",
        "      train[idx].text.extend(terms)\n",
        "  left = right + 1"
      ],
      "metadata": {
        "id": "Z7vqEJBxdGbs"
      },
      "execution_count": 45,
      "outputs": []
    },
    {
      "cell_type": "code",
      "source": [
        "left = 0\n",
        "while(left + 1 < len(val)):\n",
        "  right = left\n",
        "  while(right + 1 < len(val) and val[right].text == val[right + 1].text):\n",
        "    right = right + 1\n",
        "  if right != left:\n",
        "    terms = []\n",
        "    for idx in range(left, right + 1):\n",
        "      terms.append(val[idx].term)\n",
        "    for idx in range(left, right + 1):\n",
        "      val[idx].text.extend(terms)\n",
        "  left = right + 1"
      ],
      "metadata": {
        "id": "V2E2RJHoIiHG"
      },
      "execution_count": 46,
      "outputs": []
    },
    {
      "cell_type": "code",
      "execution_count": 47,
      "metadata": {
        "id": "lNAMTmlYLzFS"
      },
      "outputs": [],
      "source": [
        "vectors = Vectors(name='data/glove.6B.300d.txt')"
      ]
    },
    {
      "cell_type": "code",
      "execution_count": 48,
      "metadata": {
        "id": "IK4n15mWLzFT"
      },
      "outputs": [],
      "source": [
        "text.build_vocab(train, val, vectors=vectors)\n",
        "term.build_vocab(train, val, vectors=vectors)\n",
        "polarity.build_vocab(train, val)\n",
        "\n",
        "text_vocab_size = len(text.vocab)\n",
        "term_vocab_size = len(term.vocab)\n",
        "text_vector=text.vocab.vectors\n",
        "term_vector=term.vocab.vectors"
      ]
    },
    {
      "cell_type": "code",
      "execution_count": 49,
      "metadata": {
        "id": "byVkqRCSLzFU"
      },
      "outputs": [],
      "source": [
        "batch_size=512\n",
        "train_iter, val_iter = data.Iterator.splits(\n",
        "            (train, val),\n",
        "            sort_key=lambda x: len(x.text),\n",
        "            batch_sizes=(batch_size, len(val)), # batch_size only for training\n",
        "    )   "
      ]
    },
    {
      "cell_type": "code",
      "execution_count": 50,
      "metadata": {
        "id": "t5lL1vTbLzFV"
      },
      "outputs": [],
      "source": [
        "class Attention_mlp(nn.Module):\n",
        "    def __init__(self, embedding_dim, hidden_dim):\n",
        "        super(Attention_mlp, self).__init__()\n",
        "        self.wv = nn.Linear(embedding_dim, embedding_dim, bias= False)\n",
        "        self.wh = nn.Linear(hidden_dim, embedding_dim, bias = False)\n",
        "        self.embedding_dim = embedding_dim\n",
        "        self.fc1 = nn.Linear(2 * embedding_dim, 1, bias = False)\n",
        "    def forward(self,term, hidden):\n",
        "        #### term shape: batch_size * 1 * embedding\n",
        "        #### hidden shape: batch_size * seq_len * hidden_dim\n",
        "        term1 = self.wv(term).transpose(-2,-1)\n",
        "        # shape(batch_size * embedding_dim * 1)\n",
        "        hidden1 = self.wh(hidden).transpose(-2,-1)\n",
        "        # shape(batch_size * embedding_dim * seq_len)\n",
        "\n",
        "        M = torch.cat((hidden1, term1.expand(hidden1.size())), dim = -2)\n",
        "        # shape(batch_size * (2 * embedding_dim) * seq_len)\n",
        "\n",
        "        alpha = F.softmax(self.fc1(torch.tanh(M.transpose(-2,-1))), dim = -2).transpose(-2,-1)\n",
        "        # shape(batch_size * 1 * seq_len)\n",
        "        \n",
        "        h_star = torch.matmul(alpha, hidden)\n",
        "        # shape(batch_size * 1 * hidden_dim)\n",
        "        return h_star\n",
        "\n",
        "class Final_pred(nn.Module):\n",
        "    def __init__(self, hidden_dim):\n",
        "        super(Final_pred, self).__init__()\n",
        "        self.wp = nn.Linear(hidden_dim, hidden_dim, bias = False)\n",
        "        self.wx = nn.Linear(hidden_dim, hidden_dim, bias = False)\n",
        "        self.ws = nn.Linear(hidden_dim, 3)\n",
        "\n",
        "    def forward(self, h_star, h_n):\n",
        "        o_star = torch.tanh(self.wp(h_star) + self.wx(h_n))\n",
        "        # shape(batch_size * 1 * hidden_dim)\n",
        "        y = self.ws(o_star)\n",
        "        # shape(batch_size * 1 * 3)\n",
        "        return y.squeeze(1)\n",
        "        \n",
        "class ATAE_LSTM(nn.Module):\n",
        "    def __init__(self, embedding_dim, num_hiddens, num_layers):\n",
        "        super(ATAE_LSTM, self).__init__()\n",
        "        self.text_embeddings = nn.Embedding(text_vocab_size, embedding_dim)\n",
        "        self.term_embeddings = nn.Embedding(term_vocab_size, embedding_dim)\n",
        "        self.text_embeddings = nn.Embedding.from_pretrained(text_vector,\n",
        "                                                            freeze=False)\n",
        "        self.term_embeddings = nn.Embedding.from_pretrained(term_vector,\n",
        "                                                              freeze=False)\n",
        "        self.lstm = nn.LSTM(input_size=2 * embedding_dim,\n",
        "                            hidden_size=num_hiddens,\n",
        "                            num_layers=num_layers,\n",
        "                            batch_first=True,\n",
        "                            bidirectional=True)\n",
        "\n",
        "        # self.wp = nn.Parameter(torch.Tensor(num_hiddens * 2, num_hiddens * 2))\n",
        "        # self.wx = nn.Parameter(torch.Tensor(num_hiddens * 2, num_hiddens * 2))\n",
        "        # self.ws = nn.Parameter(torch.Tensor(3, num_hiddens * 2))\n",
        "        \n",
        "        self.attn = Attention_mlp(embedding_dim,2 * num_hiddens)\n",
        "\n",
        "        self.final_pred = Final_pred(2 *num_hiddens)\n",
        "\n",
        "    def forward(self, text, term):\n",
        "        seq_len = len(text.t())\n",
        "        # print('text2:',text.size(1))\n",
        "        # print('term:',term.size())\n",
        "        e1 = self.text_embeddings(text)\n",
        "        # e1 shape(batch_size,seq_len, embedding_dim)\n",
        "        e2 = self.term_embeddings(term).expand(e1.size())\n",
        "\n",
        "        wv = torch.cat((e1, e2), dim=2)\n",
        "        # e.g.\n",
        "        # wv torch.Size([batch_size,seq_len,2*embedding_dim])\n",
        "\n",
        "        out, (h, c) = self.lstm(wv)  # output, (h, c)\n",
        "        # out shape(batch_size,seq_len, 2 * num_hiddens)\n",
        "        # h shape(num_layers * num_directions, batch_size, 2*num_hiddens)\n",
        "\n",
        "        r = self.attn(self.term_embeddings(term), out)\n",
        "        # shape(batch_size * 1 * hidden_dim)\n",
        "        h_n = out[:, -1:, :]\n",
        "        # shape(batch_size * 1 * hidden_dim)\n",
        "        y = self.final_pred(r, h_n)\n",
        "        # shape(batch_size * 1 * 3)\n",
        "        return y"
      ]
    },
    {
      "cell_type": "code",
      "execution_count": 51,
      "metadata": {
        "id": "NbsghI4tLzFX"
      },
      "outputs": [],
      "source": [
        "def evaluate_accuracy(data_iter, net):\n",
        "    acc_sum, n = 0.0, 0\n",
        "    with torch.no_grad():\n",
        "        for batch_idx, batch in enumerate(data_iter):\n",
        "            X1, X2, y = batch.text.cuda(), batch.term.cuda(), batch.polarity.cuda()\n",
        "            X1 = X1.permute(1, 0)\n",
        "            X2 = X2.unsqueeze(1)\n",
        "            y.data.sub_(1)  # index start from 0\n",
        "            if isinstance(net, torch.nn.Module):\n",
        "                net.eval()  \n",
        "                acc_sum += (net(X1,\n",
        "                                X2).argmax(dim=1) == y).float().sum().item()\n",
        "                net.train()  \n",
        "            else:\n",
        "                if ('is_training'\n",
        "                        in net.__code__.co_varnames): \n",
        "                    acc_sum += (net(X1, X2, is_training=False).argmax(\n",
        "                        dim=1) == y).float().sum().item()\n",
        "                else:\n",
        "                    acc_sum += (net(\n",
        "                        X1, X2).argmax(dim=1) == y).float().sum().item()\n",
        "            n += y.shape[0]\n",
        "    return acc_sum / n"
      ]
    },
    {
      "cell_type": "code",
      "execution_count": 52,
      "metadata": {
        "id": "WtV5K-OYLzFY"
      },
      "outputs": [],
      "source": [
        "def train(train_iter, test_iter, net, loss, optimizer, num_epochs):\n",
        "    batch_count = 0\n",
        "    for epoch in range(num_epochs):\n",
        "        train_l_sum, train_acc_sum, n, start = 0.0, 0.0, 0, time.time()\n",
        "        for batch_idx, batch in enumerate(train_iter):\n",
        "            X1, X2, y = batch.text.cuda(), batch.term.cuda(), batch.polarity.cuda()\n",
        "            X1 = X1.permute(1, 0).cuda()\n",
        "            X2 = X2.unsqueeze(1).cuda()\n",
        "            y.data.sub_(1)  # index start from 0\n",
        "            y_hat = net(X1,X2)\n",
        "            l = loss(y_hat, y)\n",
        "\n",
        "            optimizer.zero_grad()\n",
        "            l.backward()\n",
        "            optimizer.step()\n",
        "            \n",
        "            train_l_sum += l.item()\n",
        "            train_acc_sum += (y_hat.argmax(dim=1) == y).sum().item()\n",
        "            n += y.shape[0]\n",
        "            batch_count += 1\n",
        "        test_acc = evaluate_accuracy(test_iter, net)\n",
        "        print(\n",
        "            'epoch %d, loss %.4f, train acc %.3f, test acc %.3f, time %.1f sec'\n",
        "            % (epoch + 1, train_l_sum / batch_count, train_acc_sum / n,\n",
        "               test_acc, time.time() - start))"
      ]
    },
    {
      "cell_type": "code",
      "execution_count": 53,
      "metadata": {
        "id": "V3eZccQaLzFZ",
        "outputId": "100deb7e-3652-42e2-f4c2-9c2b1ff1bc51",
        "colab": {
          "base_uri": "https://localhost:8080/"
        }
      },
      "outputs": [
        {
          "output_type": "stream",
          "name": "stdout",
          "text": [
            "ATAE_LSTM(\n",
            "  (text_embeddings): Embedding(5277, 300)\n",
            "  (term_embeddings): Embedding(1529, 300)\n",
            "  (lstm): LSTM(600, 150, batch_first=True, bidirectional=True)\n",
            "  (attn): Attention_mlp(\n",
            "    (wv): Linear(in_features=300, out_features=300, bias=False)\n",
            "    (wh): Linear(in_features=300, out_features=300, bias=False)\n",
            "    (fc1): Linear(in_features=600, out_features=1, bias=False)\n",
            "  )\n",
            "  (final_pred): Final_pred(\n",
            "    (wp): Linear(in_features=300, out_features=300, bias=False)\n",
            "    (wx): Linear(in_features=300, out_features=300, bias=False)\n",
            "    (ws): Linear(in_features=300, out_features=3, bias=True)\n",
            "  )\n",
            ")\n",
            "epoch 1, loss 0.9896, train acc 0.563, test acc 0.663, time 1.9 sec\n",
            "epoch 2, loss 0.4419, train acc 0.616, test acc 0.668, time 1.7 sec\n",
            "epoch 3, loss 0.2732, train acc 0.639, test acc 0.677, time 1.8 sec\n",
            "epoch 4, loss 0.1902, train acc 0.669, test acc 0.702, time 1.8 sec\n",
            "epoch 5, loss 0.1396, train acc 0.725, test acc 0.719, time 2.0 sec\n",
            "epoch 6, loss 0.0938, train acc 0.769, test acc 0.724, time 1.8 sec\n",
            "epoch 7, loss 0.0664, train acc 0.801, test acc 0.737, time 1.8 sec\n",
            "epoch 8, loss 0.0536, train acc 0.829, test acc 0.734, time 1.8 sec\n",
            "epoch 9, loss 0.0416, train acc 0.851, test acc 0.737, time 1.8 sec\n",
            "epoch 10, loss 0.0333, train acc 0.864, test acc 0.740, time 1.7 sec\n",
            "epoch 11, loss 0.0326, train acc 0.887, test acc 0.729, time 1.9 sec\n",
            "epoch 12, loss 0.0260, train acc 0.884, test acc 0.742, time 1.8 sec\n",
            "epoch 13, loss 0.0210, train acc 0.892, test acc 0.754, time 1.8 sec\n",
            "epoch 14, loss 0.0151, train acc 0.913, test acc 0.747, time 1.7 sec\n",
            "epoch 15, loss 0.0118, train acc 0.931, test acc 0.749, time 1.8 sec\n",
            "epoch 16, loss 0.0087, train acc 0.947, test acc 0.742, time 1.8 sec\n",
            "epoch 17, loss 0.0070, train acc 0.957, test acc 0.730, time 1.8 sec\n",
            "epoch 18, loss 0.0057, train acc 0.961, test acc 0.743, time 1.8 sec\n",
            "epoch 19, loss 0.0039, train acc 0.974, test acc 0.754, time 1.8 sec\n",
            "epoch 20, loss 0.0031, train acc 0.978, test acc 0.743, time 1.8 sec\n"
          ]
        }
      ],
      "source": [
        "embedding_dim, num_hiddens, num_layers = 300, 150, 1\n",
        "net = ATAE_LSTM(embedding_dim, num_hiddens, num_layers).cuda()\n",
        "print(net)\n",
        "lr, num_epochs = 0.001, 20\n",
        "optimizer = torch.optim.Adam(net.parameters(), lr=lr)\n",
        "loss = nn.CrossEntropyLoss()\n",
        "train(train_iter, val_iter, net, loss, optimizer, num_epochs)"
      ]
    },
    {
      "cell_type": "code",
      "execution_count": 53,
      "metadata": {
        "id": "-d2SuNoULzFZ"
      },
      "outputs": [],
      "source": [
        ""
      ]
    }
  ],
  "metadata": {
    "interpreter": {
      "hash": "ecf5722fdaf1897a315d257d89d94520bfcaa453217d5becf09b39e73618b0de"
    },
    "kernelspec": {
      "display_name": "Python 3.9.7 ('base')",
      "language": "python",
      "name": "python3"
    },
    "language_info": {
      "codemirror_mode": {
        "name": "ipython",
        "version": 3
      },
      "file_extension": ".py",
      "mimetype": "text/x-python",
      "name": "python",
      "nbconvert_exporter": "python",
      "pygments_lexer": "ipython3",
      "version": "3.9.7"
    },
    "orig_nbformat": 4,
    "colab": {
      "name": "ATLSTM-MA.ipynb",
      "provenance": [],
      "collapsed_sections": []
    },
    "accelerator": "GPU"
  },
  "nbformat": 4,
  "nbformat_minor": 0
}
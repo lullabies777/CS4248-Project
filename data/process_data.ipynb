{
 "cells": [
  {
   "cell_type": "code",
   "execution_count": 1,
   "metadata": {},
   "outputs": [],
   "source": [
    "import xml.etree.cElementTree as ET\n",
    "import pandas as pd"
   ]
  },
  {
   "cell_type": "code",
   "execution_count": 30,
   "metadata": {},
   "outputs": [],
   "source": [
    "def read_xml(path, train = True):\n",
    "    tree = ET.parse(path)\n",
    "    root = tree.getroot()\n",
    "\n",
    "    data=[]\n",
    "    for sentence in root.findall('.//aspectTerms/..'):\n",
    "        text = sentence.find('text').text\n",
    "        aspectTerms=sentence.find('aspectTerms')\n",
    "        for aspectTerm in aspectTerms.findall('aspectTerm'):\n",
    "            if train:\n",
    "                term = aspectTerm.get('term')\n",
    "                polarity = aspectTerm.get('polarity')\n",
    "                data.append((text, term, polarity))\n",
    "            else:\n",
    "                term = aspectTerm.get('term')\n",
    "                data.append((text, term))\n",
    "    \n",
    "    if train:\n",
    "        df = pd.DataFrame(data,columns=['text', 'term', 'polarity'])\n",
    "        df = df[df['polarity'].isin(['positive', 'negative', 'neutral'])]\n",
    "        df['polarity'] = df['polarity'].map(\n",
    "            {'positive': 1, 'neutral': 0, 'negative': -1})\n",
    "    else:\n",
    "        df = pd.DataFrame(data,columns=['text', 'term'])\n",
    "\n",
    "    return df"
   ]
  },
  {
   "cell_type": "code",
   "execution_count": 31,
   "metadata": {},
   "outputs": [],
   "source": [
    "laptop_train = read_xml('Laptop_Train_v2.xml')"
   ]
  },
  {
   "cell_type": "code",
   "execution_count": 32,
   "metadata": {},
   "outputs": [],
   "source": [
    "rest_train = read_xml('Restaurants_Train_v2.xml')"
   ]
  },
  {
   "cell_type": "code",
   "execution_count": 17,
   "metadata": {},
   "outputs": [],
   "source": [
    "def read_txt(path):\n",
    "    temp = pd.read_table(path, header = None)\n",
    "    text = []\n",
    "    term = []\n",
    "    polarity = []\n",
    "    for i in range(len(temp)):\n",
    "        if i % 3 == 0:\n",
    "            text.append(temp.iloc[i,0].strip())\n",
    "        elif i % 3 == 1:\n",
    "            term.append(temp.iloc[i,0].strip())\n",
    "        else:\n",
    "            polarity.append(temp.iloc[i,0])\n",
    "    \n",
    "    df = pd.DataFrame()\n",
    "    df['text'] = text\n",
    "    df['term'] = term\n",
    "    df['polarity'] = polarity\n",
    "    def replace_str(x, y):\n",
    "        x = x.replace('$T$',y)\n",
    "        return x\n",
    "    df['text'] = df.apply(lambda x: replace_str(x['text'],x['term']),axis = 1)\n",
    "    return df"
   ]
  },
  {
   "cell_type": "code",
   "execution_count": 19,
   "metadata": {},
   "outputs": [],
   "source": [
    "laptop_test = read_txt('Laptops_Test_Gold.txt')\n",
    "rest_test = read_txt('Restaurants_Test_Gold.txt')"
   ]
  },
  {
   "cell_type": "code",
   "execution_count": 28,
   "metadata": {},
   "outputs": [],
   "source": [
    "laptop_test.to_csv('laptop_test.csv', index = 0)"
   ]
  },
  {
   "cell_type": "code",
   "execution_count": 29,
   "metadata": {},
   "outputs": [],
   "source": [
    "rest_test.to_csv('rest_test.csv', index = 0)"
   ]
  },
  {
   "cell_type": "code",
   "execution_count": 34,
   "metadata": {},
   "outputs": [],
   "source": [
    "laptop_train.to_csv('laptop_train.csv', index = 0)"
   ]
  },
  {
   "cell_type": "code",
   "execution_count": 35,
   "metadata": {},
   "outputs": [],
   "source": [
    "rest_train.to_csv('rest_train.csv', index = 0)"
   ]
  }
 ],
 "metadata": {
  "interpreter": {
   "hash": "086b1fc764f083129e6d950c259922ee278763a8348fb8a884973861a4daf1ee"
  },
  "kernelspec": {
   "display_name": "Python 3.8.11 ('yolox')",
   "language": "python",
   "name": "python3"
  },
  "language_info": {
   "codemirror_mode": {
    "name": "ipython",
    "version": 3
   },
   "file_extension": ".py",
   "mimetype": "text/x-python",
   "name": "python",
   "nbconvert_exporter": "python",
   "pygments_lexer": "ipython3",
   "version": "3.9.7"
  },
  "orig_nbformat": 4
 },
 "nbformat": 4,
 "nbformat_minor": 2
}

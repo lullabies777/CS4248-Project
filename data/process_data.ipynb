{
 "cells": [
  {
   "cell_type": "code",
   "execution_count": 23,
   "metadata": {},
   "outputs": [],
   "source": [
    "import xml.etree.cElementTree as ET\n",
    "import pandas as pd"
   ]
  },
  {
   "cell_type": "code",
   "execution_count": 40,
   "metadata": {},
   "outputs": [],
   "source": [
    "def read_xml(path, train = True):\n",
    "    tree = ET.parse(path)\n",
    "    root = tree.getroot()\n",
    "\n",
    "    data=[]\n",
    "    for sentence in root.findall('.//aspectTerms/..'):\n",
    "        text = sentence.find('text').text\n",
    "        aspectTerms=sentence.find('aspectTerms')\n",
    "        for aspectTerm in aspectTerms.findall('aspectTerm'):\n",
    "            if train:\n",
    "                term = aspectTerm.get('term')\n",
    "                polarity = aspectTerm.get('polarity')\n",
    "                data.append((text, term, polarity))\n",
    "            else:\n",
    "                term = aspectTerm.get('term')\n",
    "                data.append((text, term))\n",
    "    \n",
    "    if train:\n",
    "        df = pd.DataFrame(data,columns=['text', 'term', 'polarity'])\n",
    "        df = df[df['polarity'].isin(['positive', 'negative', 'neutral'])]\n",
    "        df['polarity'] = df['polarity'].map(\n",
    "            {'positive': 1, 'neutral': 0, 'negative': -1})\n",
    "    else:\n",
    "        df = pd.DataFrame(data,columns=['text', 'term'])\n",
    "\n",
    "    return df"
   ]
  },
  {
   "cell_type": "code",
   "execution_count": 41,
   "metadata": {},
   "outputs": [],
   "source": [
    "laptop_train = read_xml('Laptop_Train_v2.xml')\n",
    "laptop_test = read_xml('Laptops_Test_Data_phaseB.xml', train = False)"
   ]
  },
  {
   "cell_type": "code",
   "execution_count": 42,
   "metadata": {},
   "outputs": [],
   "source": [
    "rest_train = read_xml('Restaurants_Train_v2.xml')\n",
    "rest_test = read_xml('Restaurants_Test_Data_PhaseB.xml', train = False)"
   ]
  },
  {
   "cell_type": "code",
   "execution_count": 47,
   "metadata": {},
   "outputs": [
    {
     "data": {
      "text/html": [
       "<div>\n",
       "<style scoped>\n",
       "    .dataframe tbody tr th:only-of-type {\n",
       "        vertical-align: middle;\n",
       "    }\n",
       "\n",
       "    .dataframe tbody tr th {\n",
       "        vertical-align: top;\n",
       "    }\n",
       "\n",
       "    .dataframe thead th {\n",
       "        text-align: right;\n",
       "    }\n",
       "</style>\n",
       "<table border=\"1\" class=\"dataframe\">\n",
       "  <thead>\n",
       "    <tr style=\"text-align: right;\">\n",
       "      <th></th>\n",
       "      <th>text</th>\n",
       "      <th>term</th>\n",
       "    </tr>\n",
       "  </thead>\n",
       "  <tbody>\n",
       "    <tr>\n",
       "      <th>0</th>\n",
       "      <td>The bread is top notch as well.</td>\n",
       "      <td>bread</td>\n",
       "    </tr>\n",
       "    <tr>\n",
       "      <th>1</th>\n",
       "      <td>I have to say they have one of the fastest del...</td>\n",
       "      <td>delivery times</td>\n",
       "    </tr>\n",
       "    <tr>\n",
       "      <th>2</th>\n",
       "      <td>Food is always fresh and hot- ready to eat!</td>\n",
       "      <td>Food</td>\n",
       "    </tr>\n",
       "    <tr>\n",
       "      <th>3</th>\n",
       "      <td>Did I mention that the coffee is OUTSTANDING?</td>\n",
       "      <td>coffee</td>\n",
       "    </tr>\n",
       "    <tr>\n",
       "      <th>4</th>\n",
       "      <td>Certainly not the best sushi in New York, howe...</td>\n",
       "      <td>sushi</td>\n",
       "    </tr>\n",
       "    <tr>\n",
       "      <th>...</th>\n",
       "      <td>...</td>\n",
       "      <td>...</td>\n",
       "    </tr>\n",
       "    <tr>\n",
       "      <th>1129</th>\n",
       "      <td>Creamy appetizers--taramasalata, eggplant sala...</td>\n",
       "      <td>Creamy appetizers</td>\n",
       "    </tr>\n",
       "    <tr>\n",
       "      <th>1130</th>\n",
       "      <td>Creamy appetizers--taramasalata, eggplant sala...</td>\n",
       "      <td>warm pitas</td>\n",
       "    </tr>\n",
       "    <tr>\n",
       "      <th>1131</th>\n",
       "      <td>Creamy appetizers--taramasalata, eggplant sala...</td>\n",
       "      <td>taramasalata</td>\n",
       "    </tr>\n",
       "    <tr>\n",
       "      <th>1132</th>\n",
       "      <td>Creamy appetizers--taramasalata, eggplant sala...</td>\n",
       "      <td>eggplant salad</td>\n",
       "    </tr>\n",
       "    <tr>\n",
       "      <th>1133</th>\n",
       "      <td>Creamy appetizers--taramasalata, eggplant sala...</td>\n",
       "      <td>Greek yogurt (with cuccumber, dill, and garlic)</td>\n",
       "    </tr>\n",
       "  </tbody>\n",
       "</table>\n",
       "<p>1134 rows × 2 columns</p>\n",
       "</div>"
      ],
      "text/plain": [
       "                                                   text  \\\n",
       "0                       The bread is top notch as well.   \n",
       "1     I have to say they have one of the fastest del...   \n",
       "2           Food is always fresh and hot- ready to eat!   \n",
       "3         Did I mention that the coffee is OUTSTANDING?   \n",
       "4     Certainly not the best sushi in New York, howe...   \n",
       "...                                                 ...   \n",
       "1129  Creamy appetizers--taramasalata, eggplant sala...   \n",
       "1130  Creamy appetizers--taramasalata, eggplant sala...   \n",
       "1131  Creamy appetizers--taramasalata, eggplant sala...   \n",
       "1132  Creamy appetizers--taramasalata, eggplant sala...   \n",
       "1133  Creamy appetizers--taramasalata, eggplant sala...   \n",
       "\n",
       "                                                 term  \n",
       "0                                               bread  \n",
       "1                                      delivery times  \n",
       "2                                                Food  \n",
       "3                                              coffee  \n",
       "4                                               sushi  \n",
       "...                                               ...  \n",
       "1129                                Creamy appetizers  \n",
       "1130                                       warm pitas  \n",
       "1131                                     taramasalata  \n",
       "1132                                   eggplant salad  \n",
       "1133  Greek yogurt (with cuccumber, dill, and garlic)  \n",
       "\n",
       "[1134 rows x 2 columns]"
      ]
     },
     "execution_count": 47,
     "metadata": {},
     "output_type": "execute_result"
    }
   ],
   "source": [
    "rest_test"
   ]
  }
 ],
 "metadata": {
  "interpreter": {
   "hash": "086b1fc764f083129e6d950c259922ee278763a8348fb8a884973861a4daf1ee"
  },
  "kernelspec": {
   "display_name": "Python 3.8.11 ('yolox')",
   "language": "python",
   "name": "python3"
  },
  "language_info": {
   "codemirror_mode": {
    "name": "ipython",
    "version": 3
   },
   "file_extension": ".py",
   "mimetype": "text/x-python",
   "name": "python",
   "nbconvert_exporter": "python",
   "pygments_lexer": "ipython3",
   "version": "3.8.8"
  },
  "orig_nbformat": 4
 },
 "nbformat": 4,
 "nbformat_minor": 2
}

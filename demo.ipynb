{
 "cells": [
  {
   "cell_type": "code",
   "execution_count": 62,
   "metadata": {},
   "outputs": [],
   "source": [
    "# import packages\n",
    "import torch\n",
    "import torch.nn as nn \n",
    "import torch.nn.functional as F \n",
    "import pandas as pd \n",
    "from tqdm import tqdm\n",
    "from torchtext.legacy import data\n",
    "from torchtext.vocab import Vectors\n",
    "from torchtext.vocab import GloVe\n",
    "import time"
   ]
  },
  {
   "cell_type": "code",
   "execution_count": 31,
   "metadata": {},
   "outputs": [],
   "source": [
    "# preprocessing\n",
    "\n",
    "from nltk import word_tokenize\n",
    "\n",
    "text = data.Field(sequential = True, lower = True, tokenize = word_tokenize)\n",
    "term = data.Field(sequential = False, lower = True)\n",
    "polarity = data.Field(sequential = False)\n",
    "\n"
   ]
  },
  {
   "cell_type": "code",
   "execution_count": 35,
   "metadata": {},
   "outputs": [],
   "source": [
    "train, val = data.TabularDataset.splits(path=r'data/',\n",
    "                                        skip_header=True,\n",
    "                                        train='rest_train.csv',\n",
    "                                        validation='rest_test.csv',\n",
    "                                        format='csv',\n",
    "                                        fields=[('text', text),\n",
    "                                                ('term', term),\n",
    "                                                ('polarity', polarity)])\n"
   ]
  },
  {
   "cell_type": "code",
   "execution_count": 37,
   "metadata": {},
   "outputs": [
    {
     "name": "stderr",
     "output_type": "stream",
     "text": [
      "100%|█████████▉| 399999/400000 [00:36<00:00, 10885.83it/s]\n"
     ]
    }
   ],
   "source": [
    "vectors = Vectors(name='data/glove.6B.300d.txt')"
   ]
  },
  {
   "cell_type": "code",
   "execution_count": 50,
   "metadata": {},
   "outputs": [],
   "source": [
    "text.build_vocab(train, val, vectors=vectors)\n",
    "term.build_vocab(train, val, vectors=vectors)\n",
    "polarity.build_vocab(train, val)\n",
    "\n",
    "text_vocab_size = len(text.vocab)\n",
    "term_vocab_size = len(term.vocab)\n",
    "text_vector=text.vocab.vectors\n",
    "term_vector=term.vocab.vectors"
   ]
  },
  {
   "cell_type": "code",
   "execution_count": 47,
   "metadata": {},
   "outputs": [],
   "source": [
    "batch_size=512\n",
    "train_iter, val_iter = data.Iterator.splits(\n",
    "            (train, val),\n",
    "            sort_key=lambda x: len(x.text),\n",
    "            batch_sizes=(batch_size, len(val)), # batch_size only for training\n",
    "    )   \n"
   ]
  },
  {
   "cell_type": "code",
   "execution_count": 93,
   "metadata": {},
   "outputs": [],
   "source": [
    "class ATAE_LSTM(nn.Module):\n",
    "    def __init__(self, embedding_dim, num_hiddens, num_layers):\n",
    "        super(ATAE_LSTM, self).__init__()\n",
    "        self.text_embeddings = nn.Embedding(text_vocab_size, embedding_dim)\n",
    "        self.term_embeddings = nn.Embedding(term_vocab_size, embedding_dim)\n",
    "        self.text_embeddings = nn.Embedding.from_pretrained(text_vector,\n",
    "                                                            freeze=False)\n",
    "        self.term_embeddings = nn.Embedding.from_pretrained(term_vector,\n",
    "                                                              freeze=False)\n",
    "        self.lstm = nn.LSTM(input_size=2 * embedding_dim,\n",
    "                            hidden_size=num_hiddens,\n",
    "                            num_layers=num_layers,\n",
    "                            batch_first=True,\n",
    "                            bidirectional=True)\n",
    "        self.wh = nn.Parameter(torch.Tensor(num_hiddens * 2, num_hiddens * 2))\n",
    "        self.wv = nn.Parameter(torch.Tensor(embedding_dim, embedding_dim))\n",
    "        self.omega = nn.Parameter(\n",
    "            torch.Tensor(1, embedding_dim*2))\n",
    "        self.wp = nn.Parameter(torch.Tensor(num_hiddens * 2, num_hiddens * 2))\n",
    "        self.wx = nn.Parameter(torch.Tensor(num_hiddens * 2, num_hiddens * 2))\n",
    "        self.ws = nn.Parameter(torch.Tensor(4, num_hiddens * 2))\n",
    "        nn.init.uniform_(self.wh, -0.1, 0.1)\n",
    "        nn.init.uniform_(self.wv, -0.1, 0.1)\n",
    "        nn.init.uniform_(self.omega, -0.1, 0.1)\n",
    "        nn.init.uniform_(self.wp, -0.1, 0.1)\n",
    "        nn.init.uniform_(self.wx, -0.1, 0.1)\n",
    "        nn.init.uniform_(self.ws, -0.1, 0.1)\n",
    "        self.bs = nn.Parameter(torch.zeros((4, 1)))\n",
    "\n",
    "    def forward(self, text, term):\n",
    "        seq_len = len(text.t())\n",
    "        e1 = self.text_embeddings(text)\n",
    "        # e1 shape(batch_size,seq_len, embedding_dim)\n",
    "        e2 = self.term_embeddings(term).expand(e1.size())\n",
    "\n",
    "        wv = torch.cat((e1, e2), dim=2)\n",
    "        # e.g.\n",
    "        # wv torch.Size([batch_size,seq_len,2*embedding_dim])\n",
    "\n",
    "        out, (h, c) = self.lstm(wv)  # output, (h, c)\n",
    "        # out shape(batch_size,seq_len, 2 * num_hiddens)\n",
    "        # h shape(num_layers * num_directions, batch_size, 2*num_hiddens)\n",
    "\n",
    "        H = out.permute(0, 2, 1)\n",
    "        # H shape(batch_size,2 * num_hiddens,seq_len)\n",
    "        #print(H.shape)\n",
    "        #print(self.wh.shape)\n",
    "\n",
    "        Wh_H = torch.matmul(self.wh, H)\n",
    "        # wh shape(2*num_hiddens, 2*num_hiddens)\n",
    "        # wh_H shape(batch_size, 2*num_hiddens, seq_len)\n",
    "        #print('Wh_H: ', Wh_H.shape)\n",
    "        Wv_Va_eN = torch.matmul(\n",
    "            self.wv,\n",
    "            self.term_embeddings(term).permute(0, 2, 1).expand(-1, embedding_dim, seq_len))\n",
    "        # Wv shape(seq_len, seq_len) embedding_dim=2*num_hiddens\n",
    "        # Wv_Va_eN shape(batch_size, embedding_dim, seq_len)\n",
    "        #print('Wv_Va_eN: ', Wv_Va_eN.shape)\n",
    "\n",
    "        vh = torch.cat((Wh_H, Wv_Va_eN), dim=1)\n",
    "        # vh shape(batch_size, 2*embedding_dim, seq_len)\n",
    "        #print('vh: ', vh.shape)\n",
    "\n",
    "        M = torch.tanh(vh)\n",
    "        # M shape(batch_size, 2*embedding_dim, seq_len)\n",
    "        #print('M: ', M.shape)\n",
    "\n",
    "        alpha = F.softmax(torch.matmul(self.omega, M),dim=2)\n",
    "        # omega shape(1, 2*embedding_dim))\n",
    "        # alpha shape(batch_size, 1, seq_len)\n",
    "        #print('alpha: ', alpha.shape)\n",
    "\n",
    "        r = torch.matmul(H, alpha.permute(0, 2, 1))\n",
    "        # H shape(batch_size,2 * num_hiddens,seq_len)\n",
    "        # r shape(batch_size,2*num_hiddens,1)\n",
    "        #print('r: ', r.shape)\n",
    "\n",
    "        h_star = torch.tanh(\n",
    "            torch.matmul(self.wp, r) +\n",
    "            torch.matmul(self.wx, torch.unsqueeze(H[:, :, -1], 2)))\n",
    "        # h_star shape(batch_size,2 * num_hiddens,1)\n",
    "        #print('h_star: ', h_star.shape)\n",
    "\n",
    "        y = torch.matmul(self.ws, h_star) + self.bs  \n",
    "        # y shape(batch_size,4,1)\n",
    "        \n",
    "        y = y.reshape([-1, 4])\n",
    "        # y shape(batch_size,4)\n",
    "        # ws shape(4, 2*num_hiddens)\n",
    "        #print('y: ', y.shape)\n",
    "\n",
    "        return y\n"
   ]
  },
  {
   "cell_type": "code",
   "execution_count": 99,
   "metadata": {},
   "outputs": [
    {
     "name": "stdout",
     "output_type": "stream",
     "text": [
      "ATAE_LSTM(\n",
      "  (text_embeddings): Embedding(4545, 300)\n",
      "  (term_embeddings): Embedding(1529, 300)\n",
      "  (lstm): LSTM(600, 150, batch_first=True, bidirectional=True)\n",
      ")\n"
     ]
    }
   ],
   "source": [
    "embedding_dim, num_hiddens, num_layers = 300, 150, 1\n",
    "net = ATAE_LSTM(embedding_dim, num_hiddens, num_layers).cuda()\n",
    "print(net)"
   ]
  },
  {
   "cell_type": "code",
   "execution_count": 95,
   "metadata": {},
   "outputs": [],
   "source": [
    "def evaluate_accuracy(data_iter, net):\n",
    "    acc_sum, n = 0.0, 0\n",
    "    with torch.no_grad():\n",
    "        for batch_idx, batch in enumerate(data_iter):\n",
    "            X1, X2, y = batch.text.cuda(), batch.term.cuda(), batch.polarity.cuda()\n",
    "            X1 = X1.permute(1, 0)\n",
    "            X2 = X2.unsqueeze(1)\n",
    "            y.data.sub_(1)  # index start from 0\n",
    "            if isinstance(net, torch.nn.Module):\n",
    "                net.eval()  \n",
    "                acc_sum += (net(X1,\n",
    "                                X2).argmax(dim=1) == y).float().sum().item()\n",
    "                net.train()  \n",
    "            else:\n",
    "                if ('is_training'\n",
    "                        in net.__code__.co_varnames): \n",
    "                    acc_sum += (net(X1, X2, is_training=False).argmax(\n",
    "                        dim=1) == y).float().sum().item()\n",
    "                else:\n",
    "                    acc_sum += (net(\n",
    "                        X1, X2).argmax(dim=1) == y).float().sum().item()\n",
    "            n += y.shape[0]\n",
    "    return acc_sum / n\n"
   ]
  },
  {
   "cell_type": "code",
   "execution_count": 96,
   "metadata": {},
   "outputs": [],
   "source": [
    "def train(train_iter, test_iter, net, loss, optimizer, num_epochs):\n",
    "    batch_count = 0\n",
    "    for epoch in range(num_epochs):\n",
    "        train_l_sum, train_acc_sum, n, start = 0.0, 0.0, 0, time.time()\n",
    "        for batch_idx, batch in enumerate(train_iter):\n",
    "            X1, X2, y = batch.text.cuda(), batch.term.cuda(), batch.polarity.cuda()\n",
    "            X1 = X1.permute(1, 0).cuda()\n",
    "            X2 = X2.unsqueeze(1).cuda()\n",
    "            y.data.sub_(1)  # index start from 0\n",
    "            y_hat = net(X1,X2)\n",
    "            l = loss(y_hat, y)\n",
    "\n",
    "            optimizer.zero_grad()\n",
    "            l.backward()\n",
    "            optimizer.step()\n",
    "            \n",
    "            train_l_sum += l.item()\n",
    "            train_acc_sum += (y_hat.argmax(dim=1) == y).sum().item()\n",
    "            n += y.shape[0]\n",
    "            batch_count += 1\n",
    "        test_acc = evaluate_accuracy(test_iter, net)\n",
    "        print(\n",
    "            'epoch %d, loss %.4f, train acc %.3f, test acc %.3f, time %.1f sec'\n",
    "            % (epoch + 1, train_l_sum / batch_count, train_acc_sum / n,\n",
    "               test_acc, time.time() - start))"
   ]
  },
  {
   "cell_type": "code",
   "execution_count": 108,
   "metadata": {},
   "outputs": [
    {
     "name": "stdout",
     "output_type": "stream",
     "text": [
      "ATAE_LSTM(\n",
      "  (text_embeddings): Embedding(4545, 300)\n",
      "  (term_embeddings): Embedding(1529, 300)\n",
      "  (lstm): LSTM(600, 150, batch_first=True, bidirectional=True)\n",
      ")\n"
     ]
    }
   ],
   "source": [
    "embedding_dim, num_hiddens, num_layers = 300, 150, 1\n",
    "net = ATAE_LSTM(embedding_dim, num_hiddens, num_layers).cuda()\n",
    "print(net)"
   ]
  },
  {
   "cell_type": "code",
   "execution_count": 109,
   "metadata": {},
   "outputs": [
    {
     "name": "stdout",
     "output_type": "stream",
     "text": [
      "epoch 1, loss 1.0306, train acc 0.565, test acc 0.671, time 0.3 sec\n",
      "epoch 2, loss 0.4030, train acc 0.640, test acc 0.679, time 0.3 sec\n",
      "epoch 3, loss 0.2295, train acc 0.690, test acc 0.685, time 0.3 sec\n",
      "epoch 4, loss 0.1579, train acc 0.724, test acc 0.690, time 0.3 sec\n",
      "epoch 5, loss 0.1073, train acc 0.780, test acc 0.721, time 0.3 sec\n",
      "epoch 6, loss 0.0916, train acc 0.810, test acc 0.725, time 0.3 sec\n",
      "epoch 7, loss 0.0609, train acc 0.830, test acc 0.734, time 0.3 sec\n",
      "epoch 8, loss 0.0445, train acc 0.856, test acc 0.746, time 0.3 sec\n",
      "epoch 9, loss 0.0362, train acc 0.876, test acc 0.754, time 0.3 sec\n",
      "epoch 10, loss 0.0327, train acc 0.870, test acc 0.743, time 0.3 sec\n",
      "epoch 11, loss 0.0270, train acc 0.874, test acc 0.724, time 0.3 sec\n",
      "epoch 12, loss 0.0241, train acc 0.900, test acc 0.742, time 0.3 sec\n",
      "epoch 13, loss 0.0185, train acc 0.903, test acc 0.748, time 0.3 sec\n",
      "epoch 14, loss 0.0153, train acc 0.916, test acc 0.715, time 0.3 sec\n",
      "epoch 15, loss 0.0117, train acc 0.928, test acc 0.753, time 0.3 sec\n",
      "epoch 16, loss 0.0083, train acc 0.946, test acc 0.739, time 0.3 sec\n",
      "epoch 17, loss 0.0071, train acc 0.959, test acc 0.746, time 0.3 sec\n",
      "epoch 18, loss 0.0066, train acc 0.958, test acc 0.754, time 0.3 sec\n",
      "epoch 19, loss 0.0051, train acc 0.963, test acc 0.754, time 0.3 sec\n",
      "epoch 20, loss 0.0032, train acc 0.976, test acc 0.750, time 0.3 sec\n"
     ]
    }
   ],
   "source": [
    "lr, num_epochs = 0.001, 20\n",
    "optimizer = torch.optim.Adam(net.parameters(), lr=lr)\n",
    "loss = nn.CrossEntropyLoss()\n",
    "train(train_iter, val_iter, net, loss, optimizer, num_epochs)\n"
   ]
  },
  {
   "cell_type": "code",
   "execution_count": null,
   "metadata": {},
   "outputs": [],
   "source": []
  },
  {
   "cell_type": "code",
   "execution_count": null,
   "metadata": {},
   "outputs": [],
   "source": []
  },
  {
   "cell_type": "code",
   "execution_count": null,
   "metadata": {},
   "outputs": [],
   "source": []
  },
  {
   "cell_type": "code",
   "execution_count": null,
   "metadata": {},
   "outputs": [],
   "source": []
  },
  {
   "cell_type": "code",
   "execution_count": null,
   "metadata": {},
   "outputs": [],
   "source": []
  },
  {
   "cell_type": "code",
   "execution_count": null,
   "metadata": {},
   "outputs": [],
   "source": []
  },
  {
   "cell_type": "code",
   "execution_count": null,
   "metadata": {},
   "outputs": [],
   "source": []
  },
  {
   "cell_type": "code",
   "execution_count": null,
   "metadata": {},
   "outputs": [],
   "source": []
  },
  {
   "cell_type": "code",
   "execution_count": null,
   "metadata": {},
   "outputs": [],
   "source": []
  },
  {
   "cell_type": "code",
   "execution_count": null,
   "metadata": {},
   "outputs": [],
   "source": []
  },
  {
   "cell_type": "code",
   "execution_count": null,
   "metadata": {},
   "outputs": [],
   "source": []
  },
  {
   "cell_type": "code",
   "execution_count": null,
   "metadata": {},
   "outputs": [],
   "source": []
  },
  {
   "cell_type": "code",
   "execution_count": null,
   "metadata": {},
   "outputs": [],
   "source": []
  },
  {
   "cell_type": "code",
   "execution_count": null,
   "metadata": {},
   "outputs": [],
   "source": []
  },
  {
   "cell_type": "code",
   "execution_count": null,
   "metadata": {},
   "outputs": [],
   "source": []
  },
  {
   "cell_type": "code",
   "execution_count": null,
   "metadata": {},
   "outputs": [],
   "source": []
  },
  {
   "cell_type": "code",
   "execution_count": null,
   "metadata": {},
   "outputs": [],
   "source": []
  },
  {
   "cell_type": "code",
   "execution_count": null,
   "metadata": {},
   "outputs": [],
   "source": []
  },
  {
   "cell_type": "code",
   "execution_count": null,
   "metadata": {},
   "outputs": [],
   "source": []
  },
  {
   "cell_type": "code",
   "execution_count": null,
   "metadata": {},
   "outputs": [],
   "source": []
  },
  {
   "cell_type": "code",
   "execution_count": null,
   "metadata": {},
   "outputs": [],
   "source": []
  },
  {
   "cell_type": "code",
   "execution_count": null,
   "metadata": {},
   "outputs": [],
   "source": []
  },
  {
   "cell_type": "code",
   "execution_count": null,
   "metadata": {},
   "outputs": [],
   "source": []
  },
  {
   "cell_type": "code",
   "execution_count": null,
   "metadata": {},
   "outputs": [],
   "source": []
  },
  {
   "cell_type": "code",
   "execution_count": null,
   "metadata": {},
   "outputs": [],
   "source": []
  },
  {
   "cell_type": "code",
   "execution_count": null,
   "metadata": {},
   "outputs": [],
   "source": []
  },
  {
   "cell_type": "code",
   "execution_count": null,
   "metadata": {},
   "outputs": [],
   "source": []
  },
  {
   "cell_type": "code",
   "execution_count": null,
   "metadata": {},
   "outputs": [],
   "source": []
  },
  {
   "cell_type": "code",
   "execution_count": null,
   "metadata": {},
   "outputs": [],
   "source": []
  },
  {
   "cell_type": "code",
   "execution_count": null,
   "metadata": {},
   "outputs": [],
   "source": []
  },
  {
   "cell_type": "code",
   "execution_count": null,
   "metadata": {},
   "outputs": [],
   "source": []
  },
  {
   "cell_type": "code",
   "execution_count": null,
   "metadata": {},
   "outputs": [],
   "source": []
  },
  {
   "cell_type": "code",
   "execution_count": null,
   "metadata": {},
   "outputs": [],
   "source": []
  },
  {
   "cell_type": "code",
   "execution_count": null,
   "metadata": {},
   "outputs": [],
   "source": []
  },
  {
   "cell_type": "code",
   "execution_count": null,
   "metadata": {},
   "outputs": [],
   "source": []
  },
  {
   "cell_type": "code",
   "execution_count": null,
   "metadata": {},
   "outputs": [],
   "source": []
  },
  {
   "cell_type": "code",
   "execution_count": null,
   "metadata": {},
   "outputs": [],
   "source": []
  },
  {
   "cell_type": "code",
   "execution_count": null,
   "metadata": {},
   "outputs": [],
   "source": []
  },
  {
   "cell_type": "code",
   "execution_count": null,
   "metadata": {},
   "outputs": [],
   "source": []
  },
  {
   "cell_type": "code",
   "execution_count": null,
   "metadata": {},
   "outputs": [],
   "source": []
  },
  {
   "cell_type": "code",
   "execution_count": null,
   "metadata": {},
   "outputs": [],
   "source": []
  },
  {
   "cell_type": "code",
   "execution_count": null,
   "metadata": {},
   "outputs": [],
   "source": []
  },
  {
   "cell_type": "code",
   "execution_count": null,
   "metadata": {},
   "outputs": [],
   "source": []
  }
 ],
 "metadata": {
  "interpreter": {
   "hash": "ba3be6747aa247d2494ec7e5a3c71998b3798d86ddfc89bcbcd4b6191e3b51d9"
  },
  "kernelspec": {
   "display_name": "Python 3.8.8 ('base')",
   "language": "python",
   "name": "python3"
  },
  "language_info": {
   "codemirror_mode": {
    "name": "ipython",
    "version": 3
   },
   "file_extension": ".py",
   "mimetype": "text/x-python",
   "name": "python",
   "nbconvert_exporter": "python",
   "pygments_lexer": "ipython3",
   "version": "3.9.7"
  },
  "orig_nbformat": 4
 },
 "nbformat": 4,
 "nbformat_minor": 2
}

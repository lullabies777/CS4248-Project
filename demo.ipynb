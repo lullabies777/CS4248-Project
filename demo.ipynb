{
 "cells": [
  {
   "cell_type": "code",
   "execution_count": 62,
   "metadata": {},
   "outputs": [],
   "source": [
    "# import packages\n",
    "import torch\n",
    "import torch.nn as nn \n",
    "import torch.nn.functional as F \n",
    "import pandas as pd \n",
    "from tqdm import tqdm\n",
    "from torchtext.legacy import data\n",
    "from torchtext.vocab import Vectors\n",
    "from torchtext.vocab import GloVe\n",
    "import time"
   ]
  },
  {
   "cell_type": "code",
   "execution_count": 31,
   "metadata": {},
   "outputs": [],
   "source": [
    "# preprocessing\n",
    "\n",
    "from nltk import word_tokenize\n",
    "\n",
    "text = data.Field(sequential = True, lower = True, tokenize = word_tokenize)\n",
    "term = data.Field(sequential = False, lower = True)\n",
    "polarity = data.Field(sequential = False)\n",
    "\n"
   ]
  },
  {
   "cell_type": "code",
   "execution_count": 35,
   "metadata": {},
   "outputs": [],
   "source": [
    "train, val = data.TabularDataset.splits(path=r'data/',\n",
    "                                        skip_header=True,\n",
    "                                        train='rest_train.csv',\n",
    "                                        validation='rest_test.csv',\n",
    "                                        format='csv',\n",
    "                                        fields=[('text', text),\n",
    "                                                ('term', term),\n",
    "                                                ('polarity', polarity)])\n"
   ]
  },
  {
   "cell_type": "code",
   "execution_count": 37,
   "metadata": {},
   "outputs": [
    {
     "name": "stderr",
     "output_type": "stream",
     "text": [
      "100%|█████████▉| 399999/400000 [00:36<00:00, 10885.83it/s]\n"
     ]
    }
   ],
   "source": [
    "vectors = Vectors(name='data/glove.6B.300d.txt')"
   ]
  },
  {
   "cell_type": "code",
   "execution_count": 50,
   "metadata": {},
   "outputs": [],
   "source": [
    "text.build_vocab(train, val, vectors=vectors)\n",
    "term.build_vocab(train, val, vectors=vectors)\n",
    "polarity.build_vocab(train, val)\n",
    "\n",
    "text_vocab_size = len(text.vocab)\n",
    "term_vocab_size = len(term.vocab)\n",
    "text_vector=text.vocab.vectors\n",
    "term_vector=term.vocab.vectors"
   ]
  },
  {
   "cell_type": "code",
   "execution_count": 47,
   "metadata": {},
   "outputs": [],
   "source": [
    "batch_size=512\n",
    "train_iter, val_iter = data.Iterator.splits(\n",
    "            (train, val),\n",
    "            sort_key=lambda x: len(x.text),\n",
    "            batch_sizes=(batch_size, len(val)), # batch_size only for training\n",
    "    )   \n"
   ]
  },
  {
   "cell_type": "code",
   "execution_count": 71,
   "metadata": {},
   "outputs": [],
   "source": [
    "class ATAE_LSTM(nn.Module):\n",
    "    def __init__(self, embedding_dim, num_hiddens, num_layers):\n",
    "        super(ATAE_LSTM, self).__init__()\n",
    "        self.text_embeddings = nn.Embedding(text_vocab_size, embedding_dim)\n",
    "        self.term_embeddings = nn.Embedding(term_vocab_size, embedding_dim)\n",
    "        self.text_embeddings = nn.Embedding.from_pretrained(text_vector,\n",
    "                                                            freeze=False)\n",
    "        self.term_embeddings = nn.Embedding.from_pretrained(term_vector,\n",
    "                                                              freeze=False)\n",
    "        self.lstm = nn.LSTM(input_size=2 * embedding_dim,\n",
    "                            hidden_size=num_hiddens,\n",
    "                            num_layers=num_layers,\n",
    "                            batch_first=True,\n",
    "                            bidirectional=True)\n",
    "        self.wh = nn.Parameter(torch.Tensor(num_hiddens * 2, num_hiddens * 2))\n",
    "        self.wv = nn.Parameter(torch.Tensor(embedding_dim, embedding_dim))\n",
    "        self.omega = nn.Parameter(\n",
    "            torch.Tensor(1, embedding_dim*2))\n",
    "        self.wp = nn.Parameter(torch.Tensor(num_hiddens * 2, num_hiddens * 2))\n",
    "        self.wx = nn.Parameter(torch.Tensor(num_hiddens * 2, num_hiddens * 2))\n",
    "        self.ws = nn.Parameter(torch.Tensor(4, num_hiddens * 2))\n",
    "        nn.init.uniform_(self.wh, -0.1, 0.1)\n",
    "        nn.init.uniform_(self.wv, -0.1, 0.1)\n",
    "        nn.init.uniform_(self.omega, -0.1, 0.1)\n",
    "        nn.init.uniform_(self.wp, -0.1, 0.1)\n",
    "        nn.init.uniform_(self.wx, -0.1, 0.1)\n",
    "        nn.init.uniform_(self.ws, -0.1, 0.1)\n",
    "        self.bs = nn.Parameter(torch.zeros((4, 1)))\n",
    "\n",
    "    def forward(self, text, term):\n",
    "        seq_len = len(text.t())\n",
    "        e1 = self.text_embeddings(text)\n",
    "        # e1 shape(batch_size,seq_len, embedding_dim)\n",
    "        e2 = self.term_embeddings(term).expand(e1.size())\n",
    "\n",
    "        wv = torch.cat((e1, e2), dim=2)\n",
    "        # e.g.\n",
    "        # wv torch.Size([batch_size,seq_len,2*embedding_dim])\n",
    "\n",
    "        out, (h, c) = self.lstm(wv)  # output, (h, c)\n",
    "        # out shape(batch_size,seq_len, 2 * num_hiddens)\n",
    "        # h shape(num_layers * num_directions, batch_size, 2*num_hiddens)\n",
    "\n",
    "        H = out.permute(0, 2, 1)\n",
    "        # H shape(batch_size,2 * num_hiddens,seq_len)\n",
    "        #print(H.shape)\n",
    "        #print(self.wh.shape)\n",
    "\n",
    "        Wh_H = torch.matmul(self.wh, H)\n",
    "        # wh shape(2*num_hiddens, 2*num_hiddens)\n",
    "        # wh_H shape(batch_size, 2*num_hiddens, seq_len)\n",
    "        #print('Wh_H: ', Wh_H.shape)\n",
    "        Wv_Va_eN = torch.matmul(\n",
    "            self.wv,\n",
    "            self.term_embeddings(term).permute(0, 2, 1).expand(-1, embedding_dim, seq_len))\n",
    "        # Wv shape(seq_len, seq_len) embedding_dim=2*num_hiddens\n",
    "        # Wv_Va_eN shape(batch_size, embedding_dim, seq_len)\n",
    "        #print('Wv_Va_eN: ', Wv_Va_eN.shape)\n",
    "\n",
    "        vh = torch.cat((Wh_H, Wv_Va_eN), dim=1)\n",
    "        # vh shape(batch_size, 2*embedding_dim, seq_len)\n",
    "        #print('vh: ', vh.shape)\n",
    "\n",
    "        M = torch.tanh(vh)\n",
    "        # M shape(batch_size, 2*embedding_dim, seq_len)\n",
    "        #print('M: ', M.shape)\n",
    "\n",
    "        alpha = F.softmax(torch.matmul(self.omega, M),dim=2)\n",
    "        # omega shape(1, 2*embedding_dim))\n",
    "        # alpha shape(batch_size, 1, seq_len)\n",
    "        #print('alpha: ', alpha.shape)\n",
    "\n",
    "        r = torch.matmul(H, alpha.permute(0, 2, 1))\n",
    "        # H shape(batch_size,2 * num_hiddens,seq_len)\n",
    "        # r shape(batch_size,2*num_hiddens,1)\n",
    "        #print('r: ', r.shape)\n",
    "\n",
    "        h_star = torch.tanh(\n",
    "            torch.matmul(self.wp, r) +\n",
    "            torch.matmul(self.wx, torch.unsqueeze(H[:, :, -1], 2)))\n",
    "        # h_star shape(batch_size,2 * num_hiddens,1)\n",
    "        #print('h_star: ', h_star.shape)\n",
    "\n",
    "        y = torch.matmul(self.ws, h_star) + self.bs  #\n",
    "        # y shape(batch_size,4,1)\n",
    "        \n",
    "        y = y.reshape([-1, 4])\n",
    "        # y shape(batch_size,4)\n",
    "        # ws shape(4, 2*num_hiddens)\n",
    "        #print('y: ', y.shape)\n",
    "\n",
    "        return y\n"
   ]
  },
  {
   "cell_type": "code",
   "execution_count": 72,
   "metadata": {},
   "outputs": [
    {
     "name": "stdout",
     "output_type": "stream",
     "text": [
      "ATAE_LSTM(\n",
      "  (text_embeddings): Embedding(4545, 300)\n",
      "  (term_embeddings): Embedding(1529, 300)\n",
      "  (lstm): LSTM(600, 150, batch_first=True, bidirectional=True)\n",
      ")\n"
     ]
    }
   ],
   "source": [
    "embedding_dim, num_hiddens, num_layers = 300, 150, 1\n",
    "net = ATAE_LSTM(embedding_dim, num_hiddens, num_layers).cuda()\n",
    "print(net)"
   ]
  },
  {
   "cell_type": "code",
   "execution_count": 73,
   "metadata": {},
   "outputs": [],
   "source": [
    "def evaluate_accuracy(data_iter, net):\n",
    "    acc_sum, n = 0.0, 0\n",
    "    with torch.no_grad():\n",
    "        for batch_idx, batch in enumerate(data_iter):\n",
    "            X1, X2, y = batch.text, batch.term, batch.polarity\n",
    "            X1 = X1.permute(1, 0)\n",
    "            X2 = X2.unsqueeze(1)\n",
    "            y.data.sub_(1)  #下标从0开始\n",
    "            if isinstance(net, torch.nn.Module):\n",
    "                net.eval()  # 评估模式, 这会关闭dropout\n",
    "                acc_sum += (net(X1,\n",
    "                                X2).argmax(dim=1) == y).float().sum().item()\n",
    "                net.train()  # 改回训练模式\n",
    "            else:\n",
    "                if ('is_training'\n",
    "                        in net.__code__.co_varnames):  # 如果有is_training这个参数\n",
    "                    # 将is_training设置成False\n",
    "                    acc_sum += (net(X1, X2, is_training=False).argmax(\n",
    "                        dim=1) == y).float().sum().item()\n",
    "                else:\n",
    "                    acc_sum += (net(\n",
    "                        X1, X2).argmax(dim=1) == y).float().sum().item()\n",
    "            n += y.shape[0]\n",
    "    return acc_sum / n\n"
   ]
  },
  {
   "cell_type": "code",
   "execution_count": 76,
   "metadata": {},
   "outputs": [],
   "source": [
    "def train(train_iter, test_iter, net, loss, optimizer, num_epochs):\n",
    "    batch_count = 0\n",
    "    for epoch in range(num_epochs):\n",
    "        train_l_sum, train_acc_sum, n, start = 0.0, 0.0, 0, time.time()\n",
    "        for batch_idx, batch in enumerate(train_iter):\n",
    "            X1, X2, y = batch.text.cuda(), batch.term.cuda(), batch.polarity.cuda()\n",
    "            X1 = X1.permute(1, 0)\n",
    "            X2 = X2.unsqueeze(1)\n",
    "            y.data.sub_(1)  #下标从0开始\n",
    "            y_hat = net(X1,X2)\n",
    "            l = loss(y_hat, y)\n",
    "\n",
    "            optimizer.zero_grad()\n",
    "            l.backward()\n",
    "            optimizer.step()\n",
    "            \n",
    "            train_l_sum += l.item()\n",
    "            train_acc_sum += (y_hat.argmax(dim=1) == y).sum().item()\n",
    "            n += y.shape[0]\n",
    "            batch_count += 1\n",
    "        test_acc = evaluate_accuracy(test_iter, net)\n",
    "        print(\n",
    "            'epoch %d, loss %.4f, train acc %.3f, test acc %.3f, time %.1f sec'\n",
    "            % (epoch + 1, train_l_sum / batch_count, train_acc_sum / n,\n",
    "               test_acc, time.time() - start))"
   ]
  },
  {
   "cell_type": "code",
   "execution_count": 77,
   "metadata": {},
   "outputs": [
    {
     "ename": "RuntimeError",
     "evalue": "Expected all tensors to be on the same device, but found at least two devices, cpu and cuda:0! (when checking argument for argument index in method wrapper__index_select)",
     "output_type": "error",
     "traceback": [
      "\u001b[1;31m---------------------------------------------------------------------------\u001b[0m",
      "\u001b[1;31mRuntimeError\u001b[0m                              Traceback (most recent call last)",
      "\u001b[1;32mc:\\Users\\xuanming\\Desktop\\NUS study\\2022S1\\CS4248 Natural Language Processing\\projects\\CS4248-Project\\demo.ipynb Cell 11'\u001b[0m in \u001b[0;36m<module>\u001b[1;34m\u001b[0m\n\u001b[0;32m      <a href='vscode-notebook-cell:/c%3A/Users/xuanming/Desktop/NUS%20study/2022S1/CS4248%20Natural%20Language%20Processing/projects/CS4248-Project/demo.ipynb#ch0000012?line=1'>2</a>\u001b[0m optimizer \u001b[39m=\u001b[39m torch\u001b[39m.\u001b[39moptim\u001b[39m.\u001b[39mAdam(net\u001b[39m.\u001b[39mparameters(), lr\u001b[39m=\u001b[39mlr)\n\u001b[0;32m      <a href='vscode-notebook-cell:/c%3A/Users/xuanming/Desktop/NUS%20study/2022S1/CS4248%20Natural%20Language%20Processing/projects/CS4248-Project/demo.ipynb#ch0000012?line=2'>3</a>\u001b[0m loss \u001b[39m=\u001b[39m nn\u001b[39m.\u001b[39mCrossEntropyLoss()\n\u001b[1;32m----> <a href='vscode-notebook-cell:/c%3A/Users/xuanming/Desktop/NUS%20study/2022S1/CS4248%20Natural%20Language%20Processing/projects/CS4248-Project/demo.ipynb#ch0000012?line=3'>4</a>\u001b[0m train(train_iter, val_iter, net, loss, optimizer, num_epochs)\n",
      "\u001b[1;32mc:\\Users\\xuanming\\Desktop\\NUS study\\2022S1\\CS4248 Natural Language Processing\\projects\\CS4248-Project\\demo.ipynb Cell 10'\u001b[0m in \u001b[0;36mtrain\u001b[1;34m(train_iter, test_iter, net, loss, optimizer, num_epochs)\u001b[0m\n\u001b[0;32m      <a href='vscode-notebook-cell:/c%3A/Users/xuanming/Desktop/NUS%20study/2022S1/CS4248%20Natural%20Language%20Processing/projects/CS4248-Project/demo.ipynb#ch0000011?line=7'>8</a>\u001b[0m X2 \u001b[39m=\u001b[39m X2\u001b[39m.\u001b[39munsqueeze(\u001b[39m1\u001b[39m)\n\u001b[0;32m      <a href='vscode-notebook-cell:/c%3A/Users/xuanming/Desktop/NUS%20study/2022S1/CS4248%20Natural%20Language%20Processing/projects/CS4248-Project/demo.ipynb#ch0000011?line=8'>9</a>\u001b[0m y\u001b[39m.\u001b[39mdata\u001b[39m.\u001b[39msub_(\u001b[39m1\u001b[39m)  \u001b[39m#下标从0开始\u001b[39;00m\n\u001b[1;32m---> <a href='vscode-notebook-cell:/c%3A/Users/xuanming/Desktop/NUS%20study/2022S1/CS4248%20Natural%20Language%20Processing/projects/CS4248-Project/demo.ipynb#ch0000011?line=9'>10</a>\u001b[0m y_hat \u001b[39m=\u001b[39m net(X1,X2)\n\u001b[0;32m     <a href='vscode-notebook-cell:/c%3A/Users/xuanming/Desktop/NUS%20study/2022S1/CS4248%20Natural%20Language%20Processing/projects/CS4248-Project/demo.ipynb#ch0000011?line=10'>11</a>\u001b[0m l \u001b[39m=\u001b[39m loss(y_hat, y)\n\u001b[0;32m     <a href='vscode-notebook-cell:/c%3A/Users/xuanming/Desktop/NUS%20study/2022S1/CS4248%20Natural%20Language%20Processing/projects/CS4248-Project/demo.ipynb#ch0000011?line=11'>12</a>\u001b[0m optimizer\u001b[39m.\u001b[39mzero_grad()\n",
      "File \u001b[1;32mC:\\ProgramData\\Miniconda3\\lib\\site-packages\\torch\\nn\\modules\\module.py:1102\u001b[0m, in \u001b[0;36mModule._call_impl\u001b[1;34m(self, *input, **kwargs)\u001b[0m\n\u001b[0;32m   <a href='file:///c%3A/ProgramData/Miniconda3/lib/site-packages/torch/nn/modules/module.py?line=1097'>1098</a>\u001b[0m \u001b[39m# If we don't have any hooks, we want to skip the rest of the logic in\u001b[39;00m\n\u001b[0;32m   <a href='file:///c%3A/ProgramData/Miniconda3/lib/site-packages/torch/nn/modules/module.py?line=1098'>1099</a>\u001b[0m \u001b[39m# this function, and just call forward.\u001b[39;00m\n\u001b[0;32m   <a href='file:///c%3A/ProgramData/Miniconda3/lib/site-packages/torch/nn/modules/module.py?line=1099'>1100</a>\u001b[0m \u001b[39mif\u001b[39;00m \u001b[39mnot\u001b[39;00m (\u001b[39mself\u001b[39m\u001b[39m.\u001b[39m_backward_hooks \u001b[39mor\u001b[39;00m \u001b[39mself\u001b[39m\u001b[39m.\u001b[39m_forward_hooks \u001b[39mor\u001b[39;00m \u001b[39mself\u001b[39m\u001b[39m.\u001b[39m_forward_pre_hooks \u001b[39mor\u001b[39;00m _global_backward_hooks\n\u001b[0;32m   <a href='file:///c%3A/ProgramData/Miniconda3/lib/site-packages/torch/nn/modules/module.py?line=1100'>1101</a>\u001b[0m         \u001b[39mor\u001b[39;00m _global_forward_hooks \u001b[39mor\u001b[39;00m _global_forward_pre_hooks):\n\u001b[1;32m-> <a href='file:///c%3A/ProgramData/Miniconda3/lib/site-packages/torch/nn/modules/module.py?line=1101'>1102</a>\u001b[0m     \u001b[39mreturn\u001b[39;00m forward_call(\u001b[39m*\u001b[39m\u001b[39minput\u001b[39m, \u001b[39m*\u001b[39m\u001b[39m*\u001b[39mkwargs)\n\u001b[0;32m   <a href='file:///c%3A/ProgramData/Miniconda3/lib/site-packages/torch/nn/modules/module.py?line=1102'>1103</a>\u001b[0m \u001b[39m# Do not call functions when jit is used\u001b[39;00m\n\u001b[0;32m   <a href='file:///c%3A/ProgramData/Miniconda3/lib/site-packages/torch/nn/modules/module.py?line=1103'>1104</a>\u001b[0m full_backward_hooks, non_full_backward_hooks \u001b[39m=\u001b[39m [], []\n",
      "\u001b[1;32mc:\\Users\\xuanming\\Desktop\\NUS study\\2022S1\\CS4248 Natural Language Processing\\projects\\CS4248-Project\\demo.ipynb Cell 7'\u001b[0m in \u001b[0;36mATAE_LSTM.forward\u001b[1;34m(self, text, term)\u001b[0m\n\u001b[0;32m     <a href='vscode-notebook-cell:/c%3A/Users/xuanming/Desktop/NUS%20study/2022S1/CS4248%20Natural%20Language%20Processing/projects/CS4248-Project/demo.ipynb#ch0000008?line=29'>30</a>\u001b[0m \u001b[39mdef\u001b[39;00m \u001b[39mforward\u001b[39m(\u001b[39mself\u001b[39m, text, term):\n\u001b[0;32m     <a href='vscode-notebook-cell:/c%3A/Users/xuanming/Desktop/NUS%20study/2022S1/CS4248%20Natural%20Language%20Processing/projects/CS4248-Project/demo.ipynb#ch0000008?line=30'>31</a>\u001b[0m     seq_len \u001b[39m=\u001b[39m \u001b[39mlen\u001b[39m(text\u001b[39m.\u001b[39mt())\n\u001b[1;32m---> <a href='vscode-notebook-cell:/c%3A/Users/xuanming/Desktop/NUS%20study/2022S1/CS4248%20Natural%20Language%20Processing/projects/CS4248-Project/demo.ipynb#ch0000008?line=31'>32</a>\u001b[0m     e1 \u001b[39m=\u001b[39m \u001b[39mself\u001b[39;49m\u001b[39m.\u001b[39;49mtext_embeddings(text)\n\u001b[0;32m     <a href='vscode-notebook-cell:/c%3A/Users/xuanming/Desktop/NUS%20study/2022S1/CS4248%20Natural%20Language%20Processing/projects/CS4248-Project/demo.ipynb#ch0000008?line=32'>33</a>\u001b[0m     \u001b[39m# e1 shape(batch_size,seq_len, embedding_dim)\u001b[39;00m\n\u001b[0;32m     <a href='vscode-notebook-cell:/c%3A/Users/xuanming/Desktop/NUS%20study/2022S1/CS4248%20Natural%20Language%20Processing/projects/CS4248-Project/demo.ipynb#ch0000008?line=33'>34</a>\u001b[0m     e2 \u001b[39m=\u001b[39m \u001b[39mself\u001b[39m\u001b[39m.\u001b[39mterm_embeddings(term)\u001b[39m.\u001b[39mexpand(e1\u001b[39m.\u001b[39msize())\n",
      "File \u001b[1;32mC:\\ProgramData\\Miniconda3\\lib\\site-packages\\torch\\nn\\modules\\module.py:1102\u001b[0m, in \u001b[0;36mModule._call_impl\u001b[1;34m(self, *input, **kwargs)\u001b[0m\n\u001b[0;32m   <a href='file:///c%3A/ProgramData/Miniconda3/lib/site-packages/torch/nn/modules/module.py?line=1097'>1098</a>\u001b[0m \u001b[39m# If we don't have any hooks, we want to skip the rest of the logic in\u001b[39;00m\n\u001b[0;32m   <a href='file:///c%3A/ProgramData/Miniconda3/lib/site-packages/torch/nn/modules/module.py?line=1098'>1099</a>\u001b[0m \u001b[39m# this function, and just call forward.\u001b[39;00m\n\u001b[0;32m   <a href='file:///c%3A/ProgramData/Miniconda3/lib/site-packages/torch/nn/modules/module.py?line=1099'>1100</a>\u001b[0m \u001b[39mif\u001b[39;00m \u001b[39mnot\u001b[39;00m (\u001b[39mself\u001b[39m\u001b[39m.\u001b[39m_backward_hooks \u001b[39mor\u001b[39;00m \u001b[39mself\u001b[39m\u001b[39m.\u001b[39m_forward_hooks \u001b[39mor\u001b[39;00m \u001b[39mself\u001b[39m\u001b[39m.\u001b[39m_forward_pre_hooks \u001b[39mor\u001b[39;00m _global_backward_hooks\n\u001b[0;32m   <a href='file:///c%3A/ProgramData/Miniconda3/lib/site-packages/torch/nn/modules/module.py?line=1100'>1101</a>\u001b[0m         \u001b[39mor\u001b[39;00m _global_forward_hooks \u001b[39mor\u001b[39;00m _global_forward_pre_hooks):\n\u001b[1;32m-> <a href='file:///c%3A/ProgramData/Miniconda3/lib/site-packages/torch/nn/modules/module.py?line=1101'>1102</a>\u001b[0m     \u001b[39mreturn\u001b[39;00m forward_call(\u001b[39m*\u001b[39m\u001b[39minput\u001b[39m, \u001b[39m*\u001b[39m\u001b[39m*\u001b[39mkwargs)\n\u001b[0;32m   <a href='file:///c%3A/ProgramData/Miniconda3/lib/site-packages/torch/nn/modules/module.py?line=1102'>1103</a>\u001b[0m \u001b[39m# Do not call functions when jit is used\u001b[39;00m\n\u001b[0;32m   <a href='file:///c%3A/ProgramData/Miniconda3/lib/site-packages/torch/nn/modules/module.py?line=1103'>1104</a>\u001b[0m full_backward_hooks, non_full_backward_hooks \u001b[39m=\u001b[39m [], []\n",
      "File \u001b[1;32mC:\\ProgramData\\Miniconda3\\lib\\site-packages\\torch\\nn\\modules\\sparse.py:158\u001b[0m, in \u001b[0;36mEmbedding.forward\u001b[1;34m(self, input)\u001b[0m\n\u001b[0;32m    <a href='file:///c%3A/ProgramData/Miniconda3/lib/site-packages/torch/nn/modules/sparse.py?line=156'>157</a>\u001b[0m \u001b[39mdef\u001b[39;00m \u001b[39mforward\u001b[39m(\u001b[39mself\u001b[39m, \u001b[39minput\u001b[39m: Tensor) \u001b[39m-\u001b[39m\u001b[39m>\u001b[39m Tensor:\n\u001b[1;32m--> <a href='file:///c%3A/ProgramData/Miniconda3/lib/site-packages/torch/nn/modules/sparse.py?line=157'>158</a>\u001b[0m     \u001b[39mreturn\u001b[39;00m F\u001b[39m.\u001b[39;49membedding(\n\u001b[0;32m    <a href='file:///c%3A/ProgramData/Miniconda3/lib/site-packages/torch/nn/modules/sparse.py?line=158'>159</a>\u001b[0m         \u001b[39minput\u001b[39;49m, \u001b[39mself\u001b[39;49m\u001b[39m.\u001b[39;49mweight, \u001b[39mself\u001b[39;49m\u001b[39m.\u001b[39;49mpadding_idx, \u001b[39mself\u001b[39;49m\u001b[39m.\u001b[39;49mmax_norm,\n\u001b[0;32m    <a href='file:///c%3A/ProgramData/Miniconda3/lib/site-packages/torch/nn/modules/sparse.py?line=159'>160</a>\u001b[0m         \u001b[39mself\u001b[39;49m\u001b[39m.\u001b[39;49mnorm_type, \u001b[39mself\u001b[39;49m\u001b[39m.\u001b[39;49mscale_grad_by_freq, \u001b[39mself\u001b[39;49m\u001b[39m.\u001b[39;49msparse)\n",
      "File \u001b[1;32mC:\\ProgramData\\Miniconda3\\lib\\site-packages\\torch\\nn\\functional.py:2044\u001b[0m, in \u001b[0;36membedding\u001b[1;34m(input, weight, padding_idx, max_norm, norm_type, scale_grad_by_freq, sparse)\u001b[0m\n\u001b[0;32m   <a href='file:///c%3A/ProgramData/Miniconda3/lib/site-packages/torch/nn/functional.py?line=2037'>2038</a>\u001b[0m     \u001b[39m# Note [embedding_renorm set_grad_enabled]\u001b[39;00m\n\u001b[0;32m   <a href='file:///c%3A/ProgramData/Miniconda3/lib/site-packages/torch/nn/functional.py?line=2038'>2039</a>\u001b[0m     \u001b[39m# XXX: equivalent to\u001b[39;00m\n\u001b[0;32m   <a href='file:///c%3A/ProgramData/Miniconda3/lib/site-packages/torch/nn/functional.py?line=2039'>2040</a>\u001b[0m     \u001b[39m# with torch.no_grad():\u001b[39;00m\n\u001b[0;32m   <a href='file:///c%3A/ProgramData/Miniconda3/lib/site-packages/torch/nn/functional.py?line=2040'>2041</a>\u001b[0m     \u001b[39m#   torch.embedding_renorm_\u001b[39;00m\n\u001b[0;32m   <a href='file:///c%3A/ProgramData/Miniconda3/lib/site-packages/torch/nn/functional.py?line=2041'>2042</a>\u001b[0m     \u001b[39m# remove once script supports set_grad_enabled\u001b[39;00m\n\u001b[0;32m   <a href='file:///c%3A/ProgramData/Miniconda3/lib/site-packages/torch/nn/functional.py?line=2042'>2043</a>\u001b[0m     _no_grad_embedding_renorm_(weight, \u001b[39minput\u001b[39m, max_norm, norm_type)\n\u001b[1;32m-> <a href='file:///c%3A/ProgramData/Miniconda3/lib/site-packages/torch/nn/functional.py?line=2043'>2044</a>\u001b[0m \u001b[39mreturn\u001b[39;00m torch\u001b[39m.\u001b[39;49membedding(weight, \u001b[39minput\u001b[39;49m, padding_idx, scale_grad_by_freq, sparse)\n",
      "\u001b[1;31mRuntimeError\u001b[0m: Expected all tensors to be on the same device, but found at least two devices, cpu and cuda:0! (when checking argument for argument index in method wrapper__index_select)"
     ]
    }
   ],
   "source": [
    "lr, num_epochs = 0.01, 20\n",
    "optimizer = torch.optim.Adam(net.parameters(), lr=lr)\n",
    "loss = nn.CrossEntropyLoss()\n",
    "train(train_iter, val_iter, net, loss, optimizer, num_epochs)\n"
   ]
  },
  {
   "cell_type": "code",
   "execution_count": null,
   "metadata": {},
   "outputs": [],
   "source": []
  },
  {
   "cell_type": "code",
   "execution_count": null,
   "metadata": {},
   "outputs": [],
   "source": []
  },
  {
   "cell_type": "code",
   "execution_count": null,
   "metadata": {},
   "outputs": [],
   "source": []
  },
  {
   "cell_type": "code",
   "execution_count": null,
   "metadata": {},
   "outputs": [],
   "source": []
  },
  {
   "cell_type": "code",
   "execution_count": null,
   "metadata": {},
   "outputs": [],
   "source": []
  },
  {
   "cell_type": "code",
   "execution_count": null,
   "metadata": {},
   "outputs": [],
   "source": []
  },
  {
   "cell_type": "code",
   "execution_count": null,
   "metadata": {},
   "outputs": [],
   "source": []
  },
  {
   "cell_type": "code",
   "execution_count": null,
   "metadata": {},
   "outputs": [],
   "source": []
  },
  {
   "cell_type": "code",
   "execution_count": null,
   "metadata": {},
   "outputs": [],
   "source": []
  },
  {
   "cell_type": "code",
   "execution_count": null,
   "metadata": {},
   "outputs": [],
   "source": []
  },
  {
   "cell_type": "code",
   "execution_count": null,
   "metadata": {},
   "outputs": [],
   "source": []
  },
  {
   "cell_type": "code",
   "execution_count": null,
   "metadata": {},
   "outputs": [],
   "source": []
  },
  {
   "cell_type": "code",
   "execution_count": null,
   "metadata": {},
   "outputs": [],
   "source": []
  },
  {
   "cell_type": "code",
   "execution_count": null,
   "metadata": {},
   "outputs": [],
   "source": []
  },
  {
   "cell_type": "code",
   "execution_count": null,
   "metadata": {},
   "outputs": [],
   "source": []
  },
  {
   "cell_type": "code",
   "execution_count": null,
   "metadata": {},
   "outputs": [],
   "source": []
  },
  {
   "cell_type": "code",
   "execution_count": null,
   "metadata": {},
   "outputs": [],
   "source": []
  },
  {
   "cell_type": "code",
   "execution_count": null,
   "metadata": {},
   "outputs": [],
   "source": []
  },
  {
   "cell_type": "code",
   "execution_count": null,
   "metadata": {},
   "outputs": [],
   "source": []
  },
  {
   "cell_type": "code",
   "execution_count": null,
   "metadata": {},
   "outputs": [],
   "source": []
  },
  {
   "cell_type": "code",
   "execution_count": null,
   "metadata": {},
   "outputs": [],
   "source": []
  },
  {
   "cell_type": "code",
   "execution_count": null,
   "metadata": {},
   "outputs": [],
   "source": []
  },
  {
   "cell_type": "code",
   "execution_count": null,
   "metadata": {},
   "outputs": [],
   "source": []
  },
  {
   "cell_type": "code",
   "execution_count": null,
   "metadata": {},
   "outputs": [],
   "source": []
  },
  {
   "cell_type": "code",
   "execution_count": null,
   "metadata": {},
   "outputs": [],
   "source": []
  },
  {
   "cell_type": "code",
   "execution_count": null,
   "metadata": {},
   "outputs": [],
   "source": []
  },
  {
   "cell_type": "code",
   "execution_count": null,
   "metadata": {},
   "outputs": [],
   "source": []
  },
  {
   "cell_type": "code",
   "execution_count": null,
   "metadata": {},
   "outputs": [],
   "source": []
  },
  {
   "cell_type": "code",
   "execution_count": null,
   "metadata": {},
   "outputs": [],
   "source": []
  },
  {
   "cell_type": "code",
   "execution_count": null,
   "metadata": {},
   "outputs": [],
   "source": []
  },
  {
   "cell_type": "code",
   "execution_count": null,
   "metadata": {},
   "outputs": [],
   "source": []
  },
  {
   "cell_type": "code",
   "execution_count": null,
   "metadata": {},
   "outputs": [],
   "source": []
  },
  {
   "cell_type": "code",
   "execution_count": null,
   "metadata": {},
   "outputs": [],
   "source": []
  },
  {
   "cell_type": "code",
   "execution_count": null,
   "metadata": {},
   "outputs": [],
   "source": []
  },
  {
   "cell_type": "code",
   "execution_count": null,
   "metadata": {},
   "outputs": [],
   "source": []
  },
  {
   "cell_type": "code",
   "execution_count": null,
   "metadata": {},
   "outputs": [],
   "source": []
  },
  {
   "cell_type": "code",
   "execution_count": null,
   "metadata": {},
   "outputs": [],
   "source": []
  },
  {
   "cell_type": "code",
   "execution_count": null,
   "metadata": {},
   "outputs": [],
   "source": []
  },
  {
   "cell_type": "code",
   "execution_count": null,
   "metadata": {},
   "outputs": [],
   "source": []
  },
  {
   "cell_type": "code",
   "execution_count": null,
   "metadata": {},
   "outputs": [],
   "source": []
  },
  {
   "cell_type": "code",
   "execution_count": null,
   "metadata": {},
   "outputs": [],
   "source": []
  },
  {
   "cell_type": "code",
   "execution_count": null,
   "metadata": {},
   "outputs": [],
   "source": []
  },
  {
   "cell_type": "code",
   "execution_count": null,
   "metadata": {},
   "outputs": [],
   "source": []
  }
 ],
 "metadata": {
  "interpreter": {
   "hash": "ba3be6747aa247d2494ec7e5a3c71998b3798d86ddfc89bcbcd4b6191e3b51d9"
  },
  "kernelspec": {
   "display_name": "Python 3.8.8 ('base')",
   "language": "python",
   "name": "python3"
  },
  "language_info": {
   "codemirror_mode": {
    "name": "ipython",
    "version": 3
   },
   "file_extension": ".py",
   "mimetype": "text/x-python",
   "name": "python",
   "nbconvert_exporter": "python",
   "pygments_lexer": "ipython3",
   "version": "3.9.7"
  },
  "orig_nbformat": 4
 },
 "nbformat": 4,
 "nbformat_minor": 2
}
